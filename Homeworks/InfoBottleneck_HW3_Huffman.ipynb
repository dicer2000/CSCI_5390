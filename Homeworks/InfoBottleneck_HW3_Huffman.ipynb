{
  "nbformat": 4,
  "nbformat_minor": 0,
  "metadata": {
    "colab": {
      "name": "InfoBottleneck_HW3_Huffman.ipynb",
      "provenance": [],
      "collapsed_sections": []
    },
    "kernelspec": {
      "name": "python3",
      "display_name": "Python 3"
    },
    "language_info": {
      "name": "python"
    }
  },
  "cells": [
    {
      "cell_type": "code",
      "execution_count": 1,
      "metadata": {
        "id": "aj_v8xsm4UC7"
      },
      "outputs": [],
      "source": [
        "# Info Bottleneck\n",
        "# Brett Huffman\n",
        "# Homework 3 - CSCI 5390\n",
        "# Feb 8, 2022\n",
        "\n",
        "# Important libraries I'll be using\n",
        "import numpy as np\n",
        "import pandas as pd\n",
        "\n",
        "# Plot libraries\n",
        "import matplotlib.pyplot as plt             #visualisation\n",
        "import seaborn as sns                       #visualisation\n",
        "\n",
        "%matplotlib inline\n"
      ]
    },
    {
      "cell_type": "code",
      "source": [
        "# Import the data\n",
        "from tensorflow.keras.datasets import reuters\n",
        "(train_data, train_labels), (test_data, test_labels) = reuters.load_data(\n",
        "    num_words=10000)"
      ],
      "metadata": {
        "id": "k5fm1J4V5EFn",
        "colab": {
          "base_uri": "https://localhost:8080/"
        },
        "outputId": "4e4f5f8e-a8d4-4437-94a9-32a1df6d0d13"
      },
      "execution_count": 5,
      "outputs": [
        {
          "output_type": "stream",
          "name": "stdout",
          "text": [
            "Downloading data from https://storage.googleapis.com/tensorflow/tf-keras-datasets/reuters.npz\n",
            "2113536/2110848 [==============================] - 0s 0us/step\n",
            "2121728/2110848 [==============================] - 0s 0us/step\n"
          ]
        }
      ]
    },
    {
      "cell_type": "code",
      "source": [
        "# Check it out\n",
        "train_labels[10]"
      ],
      "metadata": {
        "colab": {
          "base_uri": "https://localhost:8080/"
        },
        "id": "aSIuqGmk5hCI",
        "outputId": "c2ef9e00-abc5-4b68-965a-7850ad605bfa"
      },
      "execution_count": 6,
      "outputs": [
        {
          "output_type": "execute_result",
          "data": {
            "text/plain": [
              "3"
            ]
          },
          "metadata": {},
          "execution_count": 6
        }
      ]
    },
    {
      "cell_type": "code",
      "source": [
        "def vectorize_sequences(sequences, dimension=10000):\n",
        "    results = np.zeros((len(sequences), dimension))\n",
        "    for i, sequence in enumerate(sequences):\n",
        "        for j in sequence:\n",
        "            results[i, j] = 1.\n",
        "    return results\n"
      ],
      "metadata": {
        "id": "xjY5OYlwQ7EK"
      },
      "execution_count": 12,
      "outputs": []
    },
    {
      "cell_type": "code",
      "source": [
        "#Encoding the input data\n",
        "\n",
        "x_train = vectorize_sequences(train_data)\n",
        "x_test = vectorize_sequences(test_data)"
      ],
      "metadata": {
        "id": "vG9hTu8Q5j3y"
      },
      "execution_count": 13,
      "outputs": []
    },
    {
      "cell_type": "code",
      "source": [
        "# One Hot Function\n",
        "def to_one_hot(labels, dimension=46):\n",
        "    results = np.zeros((len(labels), dimension))\n",
        "    for i, label in enumerate(labels):\n",
        "        results[i, label] = 1.\n",
        "    return results\n",
        "y_train = to_one_hot(train_labels)\n",
        "y_test = to_one_hot(test_labels)"
      ],
      "metadata": {
        "id": "aqINgMCp6PpR"
      },
      "execution_count": 15,
      "outputs": []
    },
    {
      "cell_type": "code",
      "source": [
        "# Make Validation Set\n",
        "x_val = x_train[:1000]\n",
        "partial_x_train = x_train[1000:]\n",
        "y_val = y_train[:1000]\n",
        "partial_y_train = y_train[1000:]"
      ],
      "metadata": {
        "id": "qV8ImXyKSOIO"
      },
      "execution_count": 16,
      "outputs": []
    },
    {
      "cell_type": "code",
      "source": [
        "# Prepare to generate the model\n",
        "import tensorflow as tf\n",
        "from tensorflow import keras\n",
        "from tensorflow.keras import layers\n",
        "from keras.models import Sequential\n",
        "from keras.layers import Dense, Conv2D, Dropout, Flatten, MaxPooling2D, Input, AlphaDropout\n",
        "from keras.wrappers.scikit_learn import KerasRegressor\n",
        "from sklearn.model_selection import cross_val_score\n",
        "from sklearn.model_selection import KFold\n",
        "from keras.wrappers.scikit_learn import KerasRegressor\n",
        "from tensorflow.keras.callbacks import EarlyStopping, ModelCheckpoint\n",
        "from sklearn.metrics import accuracy_score"
      ],
      "metadata": {
        "id": "HAmorFIB65EF"
      },
      "execution_count": 22,
      "outputs": []
    },
    {
      "cell_type": "code",
      "source": [
        "# Do the actual calculations to see how accurate different layer sizes is\n",
        "\n",
        "# Create numpy array for accuracy history\n",
        "npLayer = np.zeros(shape=(0))\n",
        "npAccuracy = np.zeros(shape=(0))\n",
        "\n",
        "# Loop [8, 72] Stepping by 8\n",
        "for i in range(8, 88, 8) :\n",
        "\n",
        "  # Make New Model\n",
        "  model = keras.Sequential([\n",
        "    layers.Dense(64, activation=\"relu\"),\n",
        "    layers.Dense(i, activation=\"relu\"),\n",
        "    layers.Dense(46, activation=\"softmax\")\n",
        "  ])\n",
        "\n",
        "  model.compile(optimizer=\"rmsprop\",\n",
        "              loss=\"categorical_crossentropy\",\n",
        "              metrics=[\"accuracy\"])\n",
        "\n",
        "\n",
        "  history = model.fit(partial_x_train,\n",
        "                    partial_y_train,\n",
        "                    epochs=25,\n",
        "                    batch_size=512,\n",
        "                    validation_data=(x_val, y_val),\n",
        "                    verbose=0)\n",
        "  \n",
        "\n",
        "  # Pack data into array\n",
        "  prediction = model.predict(x_val)\n",
        "  accuracy = accuracy_score(y_val, prediction.round())\n",
        "  npLayer = np.append(npLayer, i)\n",
        "  npAccuracy = np.append(npAccuracy, accuracy)\n",
        "\n"
      ],
      "metadata": {
        "id": "6tr_BI6B5zSh"
      },
      "execution_count": 114,
      "outputs": []
    },
    {
      "cell_type": "code",
      "source": [
        "# Check the history\n",
        "print(npLayer)\n",
        "print(npAccuracy)"
      ],
      "metadata": {
        "colab": {
          "base_uri": "https://localhost:8080/"
        },
        "id": "reGs_dYpY4Cg",
        "outputId": "32969474-fe85-4f89-8992-066df75e11f5"
      },
      "execution_count": 115,
      "outputs": [
        {
          "output_type": "stream",
          "name": "stdout",
          "text": [
            "[ 8. 16. 24. 32. 40. 48. 56. 64. 72. 80.]\n",
            "[0.302 0.594 0.629 0.631 0.627 0.654 0.651 0.646 0.663 0.659]\n"
          ]
        }
      ]
    },
    {
      "cell_type": "code",
      "source": [
        "\n",
        "x_pos = [i for i, _ in enumerate(npLayer)]\n",
        "\n",
        "plt.bar(npLayer, npAccuracy, color='green')\n",
        "plt.ylabel(\"Val Accuracy\")\n",
        "plt.xlabel(\"Layer Size\")\n",
        "plt.title(\"Val accuracy vs Layer Size\")\n",
        "\n",
        "plt.show()\n"
      ],
      "metadata": {
        "colab": {
          "base_uri": "https://localhost:8080/",
          "height": 295
        },
        "id": "cqKpBiyuc7kU",
        "outputId": "20224e15-73b4-4c13-f562-416a369a05d5"
      },
      "execution_count": 116,
      "outputs": [
        {
          "output_type": "display_data",
          "data": {
            "image/png": "[encoded data removed]",
            "text/plain": [
              "<Figure size 432x288 with 1 Axes>"
            ]
          },
          "metadata": {
            "needs_background": "light"
          }
        }
      ]
    }
  ]
}